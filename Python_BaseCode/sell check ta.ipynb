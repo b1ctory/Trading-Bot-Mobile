{
 "cells": [
  {
   "cell_type": "code",
   "execution_count": 1,
   "metadata": {
    "collapsed": true
   },
   "outputs": [],
   "source": [
    "import pandas as pd\n",
    "from pandas_datareader import data as pdr\n",
    "import FinanceDataReader as fdr\n",
    "import yfinance\n",
    "from tqdm import tqdm\n",
    "import time\n",
    "import warnings\n",
    "import talib\n",
    "warnings.filterwarnings(\"ignore\")"
   ]
  },
  {
   "cell_type": "code",
   "execution_count": 2,
   "outputs": [
    {
     "name": "stdout",
     "output_type": "stream",
     "text": [
      "ADBE\n",
      "현재 가격 : 437.82000732421875\n",
      "매도 스코어 : -2.0\n",
      "매도 여부 : False\n",
      "\n",
      "XLV\n",
      "현재 가격 : 133.14999389648438\n",
      "매도 스코어 : -2.0\n",
      "매도 여부 : False\n",
      "\n",
      "WDC\n",
      "현재 가격 : 48.20000076293945\n",
      "매도 스코어 : -4.0\n",
      "매도 여부 : True\n",
      "\n",
      "QCOM\n",
      "현재 가격 : 148.52999877929688\n",
      "매도 스코어 : -2.0\n",
      "매도 여부 : False\n",
      "\n",
      "MDLZ\n",
      "현재 가격 : 65.51000213623047\n",
      "매도 스코어 : -1.0\n",
      "매도 여부 : False\n",
      "\n",
      "IAU\n",
      "현재 가격 : 33.5\n",
      "매도 스코어 : -1.0\n",
      "매도 여부 : False\n",
      "\n",
      "USOI\n",
      "현재 가격 : 4.550000190734863\n",
      "매도 스코어 : 1.0\n",
      "매도 여부 : False\n",
      "\n"
     ]
    }
   ],
   "source": [
    "def get_position(df):\n",
    "    close = df[\"Adj Close\"]\n",
    "\n",
    "    # 볼린저밴드\n",
    "    df[\"Upper\"], df[\"Middle\"], df[\"Lower\"] = talib.BBANDS(close, timeperiod=20)\n",
    "\n",
    "    # 모멘텀\n",
    "    df[\"Momentum\"] = talib.MOM(close, timeperiod=10)\n",
    "    df[\"Momentum_signal\"] = talib.SMA(df[\"Momentum\"], timeperiod=9)\n",
    "\n",
    "    # 이평선\n",
    "    df[\"MA5\"] = talib.SMA(close, timeperiod=5)\n",
    "    df[\"MA15\"] = talib.SMA(close, timeperiod=20)\n",
    "    df[\"MA20\"] = talib.SMA(close, timeperiod=20)\n",
    "    df[\"MA60\"] = talib.SMA(close, timeperiod=60)\n",
    "\n",
    "    # RSI\n",
    "    df[\"RSI\"] = talib.RSI(close, timeperiod=14)\n",
    "    df[\"RSI_signal\"] = talib.SMA(df[\"RSI\"], timeperiod=6)\n",
    "\n",
    "    # MACD\n",
    "    df[\"MACD\"], df[\"MACD_signal\"], df[\"MACD_hist\"] = talib.MACD(close)\n",
    "\n",
    "    return df\n",
    "\n",
    "tickers = [\"ADBE\", \"XLV\", \"WDC\", \"QCOM\", \"MDLZ\", \"IAU\", \"USOI\"]\n",
    "\n",
    "for ticker in tickers:\n",
    "    time.sleep(1)\n",
    "    df = pdr.get_data_yahoo(ticker, \"2022\")\n",
    "    df = get_position(df)\n",
    "    df[\"Score\"] = 0\n",
    "    temp_dict = dict(df)\n",
    "    sell_threshold = -4\n",
    "\n",
    "    # 주가가 밴드 상단보다 높으면 -1\n",
    "    if temp_dict[\"Adj Close\"][-1] > temp_dict[\"Upper\"][-1]:\n",
    "        temp_dict[\"Score\"][-1] -= 2\n",
    "    # 주가가 밴드 하단보다 낮으면 +1\n",
    "    elif temp_dict[\"Adj Close\"][-1] < temp_dict[\"Lower\"][-1]:\n",
    "        temp_dict[\"Score\"][-1] += 2\n",
    "\n",
    "    # 모멘텀이 0보다 위일 때 +1\n",
    "    if temp_dict[\"Momentum\"][-1] > 0:\n",
    "        temp_dict[\"Score\"][-1] += 1\n",
    "    # 모멘텀이 0보다 아래일 때 -1\n",
    "    elif temp_dict[\"Momentum\"][-1] < 0:\n",
    "        temp_dict[\"Score\"][-1] -= 1\n",
    "\n",
    "    # 모멘텀이 모멘텀 시그널을 상향돌파시 +1\n",
    "    if (temp_dict[\"Momentum\"][-2] < temp_dict[\"Momentum_signal\"][-2]) and (temp_dict[\"Momentum_signal\"][-1] < temp_dict[\"Momentum\"][-1]):\n",
    "        temp_dict[\"Score\"][-1] += 2\n",
    "    # 모멘텀이 모멘텀 시그널을 하향돌파시 -1\n",
    "    elif (temp_dict[\"Momentum\"][-2] > temp_dict[\"Momentum_signal\"][-2]) and (temp_dict[\"Momentum_signal\"][-1] > temp_dict[\"Momentum\"][-1]):\n",
    "        temp_dict[\"Score\"][-1] -= 2\n",
    "\n",
    "    # 단기 이평선이 장기 이평선을 상향돌파시 +1\n",
    "    if (temp_dict[\"MA15\"][-2] < temp_dict[\"MA20\"][-2]) and (temp_dict[\"MA20\"][-1] < temp_dict[\"MA15\"][-1]):\n",
    "        temp_dict[\"Score\"][-1] += 1\n",
    "    # 단기 이평선이 장기 이평선을 하향돌파시 -1\n",
    "    elif (temp_dict[\"MA15\"][-2] > temp_dict[\"MA20\"][-2]) and (temp_dict[\"MA20\"][-1] > temp_dict[\"MA15\"][-1]):\n",
    "        temp_dict[\"Score\"][-1] -= 1\n",
    "\n",
    "    # RSI가 70을 넘어가면 과매수 -1\n",
    "    if temp_dict[\"RSI\"][-1] >= 70:\n",
    "        temp_dict[\"Score\"][-1] -= 2\n",
    "    # RSI가 30에서 내려가면 과매도 +1\n",
    "    elif temp_dict[\"RSI\"][-1] <= 30:\n",
    "        temp_dict[\"Score\"][-1] += 2\n",
    "\n",
    "    # RSI가 RSI 시그널을 상향돌파시 +1\n",
    "    if (temp_dict[\"RSI\"][-2] < temp_dict[\"RSI_signal\"][-2]) and (temp_dict[\"RSI_signal\"][-1] < temp_dict[\"RSI\"][-1]):\n",
    "        temp_dict[\"Score\"][-1] += 1\n",
    "    # RSI가 RSI 시그널을 하향돌파시 -1\n",
    "    elif (temp_dict[\"RSI\"][-2] > temp_dict[\"RSI_signal\"][-2]) and (temp_dict[\"RSI_signal\"][-1] > temp_dict[\"RSI\"][-1]):\n",
    "        temp_dict[\"Score\"][-1] -= 1\n",
    "\n",
    "    # MACD가 MACD 시그널을 상향돌파시 +1\n",
    "    if (temp_dict[\"MACD\"][-2] < temp_dict[\"MACD_signal\"][-2]) and (temp_dict[\"MACD_signal\"][-1] < temp_dict[\"MACD\"][-1]):\n",
    "        temp_dict[\"Score\"][-1] += 1\n",
    "    # MACD가 MACD 시그널을 하향돌파시 -1\n",
    "    elif (temp_dict[\"MACD\"][-2] > temp_dict[\"MACD_signal\"][-2]) and (temp_dict[\"MACD_signal\"][-1] > temp_dict[\"MACD\"][-1]):\n",
    "        temp_dict[\"Score\"][-1] -= 1\n",
    "\n",
    "    df = pd.DataFrame.from_dict(temp_dict)\n",
    "    #USD = 1303.97\n",
    "    print(ticker)\n",
    "    print(\"현재 가격 :\", df.iloc[-1][\"Adj Close\"])\n",
    "    print(\"매도 스코어 :\", df.iloc[-1][\"Score\"])\n",
    "    is_sell = True if df.iloc[-1][\"Score\"] <= sell_threshold else False\n",
    "    print(\"매도 여부 :\", is_sell)\n",
    "    print(\"\")"
   ],
   "metadata": {
    "collapsed": false,
    "pycharm": {
     "name": "#%%\n"
    }
   }
  },
  {
   "cell_type": "code",
   "execution_count": 3,
   "outputs": [
    {
     "data": {
      "text/plain": "             High   Low  Open  Close     Volume  Adj Close     Upper  \\\nDate                                                                   \n2022-08-11  4.780  4.68  4.72   4.74  2027500.0       4.74  4.901685   \n2022-08-12  4.720  4.67  4.72   4.70  1746500.0       4.70  4.902340   \n2022-08-15  4.629  4.50  4.52   4.61  3359000.0       4.61  4.897029   \n2022-08-16  4.650  4.50  4.61   4.53  3332100.0       4.53  4.889579   \n2022-08-17  4.600  4.51  4.54   4.55  2862900.0       4.55  4.877579   \n\n              Middle     Lower  Momentum  ...    MA5      MA15      MA20  \\\nDate                                      ...                              \n2022-08-11  4.690776  4.479868     -0.07  ...  4.616  4.690776  4.690776   \n2022-08-12  4.696000  4.489660     -0.17  ...  4.660  4.696000  4.696000   \n2022-08-15  4.689000  4.480971     -0.09  ...  4.660  4.689000  4.689000   \n2022-08-16  4.676000  4.462421     -0.23  ...  4.648  4.676000  4.676000   \n2022-08-17  4.664000  4.450421     -0.06  ...  4.626  4.664000  4.664000   \n\n                MA60        RSI  RSI_signal      MACD  MACD_signal  MACD_hist  \\\nDate                                                                            \n2022-08-11  4.953147  50.597137   43.732718 -0.060832    -0.072713   0.011881   \n2022-08-12  4.946434  48.822625   45.458865 -0.053244    -0.068819   0.015576   \n2022-08-15  4.939400  44.998620   46.599549 -0.053871    -0.065830   0.011959   \n2022-08-16  4.929836  41.860060   46.168332 -0.060131    -0.064690   0.004559   \n2022-08-17  4.920297  42.931705   46.038535 -0.062754    -0.064303   0.001549   \n\n            Score  \nDate               \n2022-08-11      0  \n2022-08-12      0  \n2022-08-15      0  \n2022-08-16      0  \n2022-08-17      1  \n\n[5 rows x 21 columns]",
      "text/html": "<div>\n<style scoped>\n    .dataframe tbody tr th:only-of-type {\n        vertical-align: middle;\n    }\n\n    .dataframe tbody tr th {\n        vertical-align: top;\n    }\n\n    .dataframe thead th {\n        text-align: right;\n    }\n</style>\n<table border=\"1\" class=\"dataframe\">\n  <thead>\n    <tr style=\"text-align: right;\">\n      <th></th>\n      <th>High</th>\n      <th>Low</th>\n      <th>Open</th>\n      <th>Close</th>\n      <th>Volume</th>\n      <th>Adj Close</th>\n      <th>Upper</th>\n      <th>Middle</th>\n      <th>Lower</th>\n      <th>Momentum</th>\n      <th>...</th>\n      <th>MA5</th>\n      <th>MA15</th>\n      <th>MA20</th>\n      <th>MA60</th>\n      <th>RSI</th>\n      <th>RSI_signal</th>\n      <th>MACD</th>\n      <th>MACD_signal</th>\n      <th>MACD_hist</th>\n      <th>Score</th>\n    </tr>\n    <tr>\n      <th>Date</th>\n      <th></th>\n      <th></th>\n      <th></th>\n      <th></th>\n      <th></th>\n      <th></th>\n      <th></th>\n      <th></th>\n      <th></th>\n      <th></th>\n      <th></th>\n      <th></th>\n      <th></th>\n      <th></th>\n      <th></th>\n      <th></th>\n      <th></th>\n      <th></th>\n      <th></th>\n      <th></th>\n      <th></th>\n    </tr>\n  </thead>\n  <tbody>\n    <tr>\n      <th>2022-08-11</th>\n      <td>4.780</td>\n      <td>4.68</td>\n      <td>4.72</td>\n      <td>4.74</td>\n      <td>2027500.0</td>\n      <td>4.74</td>\n      <td>4.901685</td>\n      <td>4.690776</td>\n      <td>4.479868</td>\n      <td>-0.07</td>\n      <td>...</td>\n      <td>4.616</td>\n      <td>4.690776</td>\n      <td>4.690776</td>\n      <td>4.953147</td>\n      <td>50.597137</td>\n      <td>43.732718</td>\n      <td>-0.060832</td>\n      <td>-0.072713</td>\n      <td>0.011881</td>\n      <td>0</td>\n    </tr>\n    <tr>\n      <th>2022-08-12</th>\n      <td>4.720</td>\n      <td>4.67</td>\n      <td>4.72</td>\n      <td>4.70</td>\n      <td>1746500.0</td>\n      <td>4.70</td>\n      <td>4.902340</td>\n      <td>4.696000</td>\n      <td>4.489660</td>\n      <td>-0.17</td>\n      <td>...</td>\n      <td>4.660</td>\n      <td>4.696000</td>\n      <td>4.696000</td>\n      <td>4.946434</td>\n      <td>48.822625</td>\n      <td>45.458865</td>\n      <td>-0.053244</td>\n      <td>-0.068819</td>\n      <td>0.015576</td>\n      <td>0</td>\n    </tr>\n    <tr>\n      <th>2022-08-15</th>\n      <td>4.629</td>\n      <td>4.50</td>\n      <td>4.52</td>\n      <td>4.61</td>\n      <td>3359000.0</td>\n      <td>4.61</td>\n      <td>4.897029</td>\n      <td>4.689000</td>\n      <td>4.480971</td>\n      <td>-0.09</td>\n      <td>...</td>\n      <td>4.660</td>\n      <td>4.689000</td>\n      <td>4.689000</td>\n      <td>4.939400</td>\n      <td>44.998620</td>\n      <td>46.599549</td>\n      <td>-0.053871</td>\n      <td>-0.065830</td>\n      <td>0.011959</td>\n      <td>0</td>\n    </tr>\n    <tr>\n      <th>2022-08-16</th>\n      <td>4.650</td>\n      <td>4.50</td>\n      <td>4.61</td>\n      <td>4.53</td>\n      <td>3332100.0</td>\n      <td>4.53</td>\n      <td>4.889579</td>\n      <td>4.676000</td>\n      <td>4.462421</td>\n      <td>-0.23</td>\n      <td>...</td>\n      <td>4.648</td>\n      <td>4.676000</td>\n      <td>4.676000</td>\n      <td>4.929836</td>\n      <td>41.860060</td>\n      <td>46.168332</td>\n      <td>-0.060131</td>\n      <td>-0.064690</td>\n      <td>0.004559</td>\n      <td>0</td>\n    </tr>\n    <tr>\n      <th>2022-08-17</th>\n      <td>4.600</td>\n      <td>4.51</td>\n      <td>4.54</td>\n      <td>4.55</td>\n      <td>2862900.0</td>\n      <td>4.55</td>\n      <td>4.877579</td>\n      <td>4.664000</td>\n      <td>4.450421</td>\n      <td>-0.06</td>\n      <td>...</td>\n      <td>4.626</td>\n      <td>4.664000</td>\n      <td>4.664000</td>\n      <td>4.920297</td>\n      <td>42.931705</td>\n      <td>46.038535</td>\n      <td>-0.062754</td>\n      <td>-0.064303</td>\n      <td>0.001549</td>\n      <td>1</td>\n    </tr>\n  </tbody>\n</table>\n<p>5 rows × 21 columns</p>\n</div>"
     },
     "execution_count": 3,
     "metadata": {},
     "output_type": "execute_result"
    }
   ],
   "source": [
    "df.tail()"
   ],
   "metadata": {
    "collapsed": false,
    "pycharm": {
     "name": "#%%\n"
    }
   }
  }
 ],
 "metadata": {
  "kernelspec": {
   "display_name": "Python 3",
   "language": "python",
   "name": "python3"
  },
  "language_info": {
   "codemirror_mode": {
    "name": "ipython",
    "version": 2
   },
   "file_extension": ".py",
   "mimetype": "text/x-python",
   "name": "python",
   "nbconvert_exporter": "python",
   "pygments_lexer": "ipython2",
   "version": "2.7.6"
  }
 },
 "nbformat": 4,
 "nbformat_minor": 0
}