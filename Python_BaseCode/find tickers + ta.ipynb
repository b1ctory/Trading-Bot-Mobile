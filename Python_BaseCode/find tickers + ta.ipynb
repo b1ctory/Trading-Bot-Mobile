{
 "cells": [
  {
   "cell_type": "code",
   "execution_count": 1,
   "metadata": {
    "collapsed": true,
    "pycharm": {
     "is_executing": false,
     "name": "#%%\n"
    }
   },
   "outputs": [
    {
     "traceback": [
      "\u001B[0;31m---------------------------------------------------------------------------\u001B[0m",
      "\u001B[0;31mModuleNotFoundError\u001B[0m                       Traceback (most recent call last)",
      "Input \u001B[0;32mIn [1]\u001B[0m, in \u001B[0;36m<cell line: 2>\u001B[0;34m()\u001B[0m\n\u001B[1;32m      1\u001B[0m \u001B[38;5;28;01mimport\u001B[39;00m \u001B[38;5;21;01mpandas\u001B[39;00m \u001B[38;5;28;01mas\u001B[39;00m \u001B[38;5;21;01mpd\u001B[39;00m\n\u001B[0;32m----> 2\u001B[0m \u001B[38;5;28;01mfrom\u001B[39;00m \u001B[38;5;21;01mpandas_datareader\u001B[39;00m \u001B[38;5;28;01mimport\u001B[39;00m data \u001B[38;5;28;01mas\u001B[39;00m pdr\n\u001B[1;32m      3\u001B[0m \u001B[38;5;28;01mimport\u001B[39;00m \u001B[38;5;21;01mFinanceDataReader\u001B[39;00m \u001B[38;5;28;01mas\u001B[39;00m \u001B[38;5;21;01mfdr\u001B[39;00m\n\u001B[1;32m      4\u001B[0m \u001B[38;5;28;01mimport\u001B[39;00m \u001B[38;5;21;01myfinance\u001B[39;00m\n",
      "\u001B[0;31mModuleNotFoundError\u001B[0m: No module named 'pandas_datareader'"
     ],
     "ename": "ModuleNotFoundError",
     "evalue": "No module named 'pandas_datareader'",
     "output_type": "error"
    }
   ],
   "source": [
    "import pandas as pd\n",
    "from pandas_datareader import data as pdr\n",
    "import FinanceDataReader as fdr\n",
    "import yfinance\n",
    "from tqdm import tqdm\n",
    "import time\n",
    "import warnings\n",
    "import talib\n",
    "warnings.filterwarnings(\"ignore\")"
   ]
  },
  {
   "cell_type": "code",
   "execution_count": 2,
   "outputs": [
    {
     "name": "stderr",
     "output_type": "stream",
     "text": [
      "100%|██████████| 4626/4626 [00:13<00:00, 345.37it/s]\n"
     ]
    }
   ],
   "source": [
    "etf_tickers = pd.read_csv(\"ETFs.csv\")\n",
    "stock_tickers = fdr.StockListing(\"NASDAQ\")"
   ],
   "metadata": {
    "collapsed": false,
    "pycharm": {
     "name": "#%%\n"
    }
   }
  },
  {
   "cell_type": "code",
   "execution_count": 8,
   "outputs": [],
   "source": [
    "def get_position(df):\n",
    "    close = df[\"Adj Close\"]\n",
    "\n",
    "    # 볼린저밴드\n",
    "    df[\"Upper\"], df[\"Middle\"], df[\"Lower\"] = talib.BBANDS(close, timeperiod=20)\n",
    "\n",
    "    # 모멘텀\n",
    "    df[\"Momentum\"] = talib.MOM(close, timeperiod=10)\n",
    "    df[\"Momentum_signal\"] = talib.SMA(df[\"Momentum\"], timeperiod=9)\n",
    "\n",
    "    # 이평선\n",
    "    df[\"MA5\"] = talib.SMA(close, timeperiod=5)\n",
    "    df[\"MA15\"] = talib.SMA(close, timeperiod=20)\n",
    "    df[\"MA20\"] = talib.SMA(close, timeperiod=20)\n",
    "    df[\"MA60\"] = talib.SMA(close, timeperiod=60)\n",
    "\n",
    "    # RSI\n",
    "    df[\"RSI\"] = talib.RSI(close, timeperiod=14)\n",
    "    df[\"RSI_signal\"] = talib.SMA(df[\"RSI\"], timeperiod=6)\n",
    "\n",
    "    # MACD\n",
    "    df[\"MACD\"], df[\"MACD_signal\"], df[\"MACD_hist\"] = talib.MACD(close)\n",
    "\n",
    "    return df\n",
    "\n",
    "def simulation(ticker, df):\n",
    "    seed = 1000000\n",
    "    buy_price = 0\n",
    "    holding = False\n",
    "    fee = 0.0016\n",
    "    buy_threshold = 3\n",
    "    sell_threshold = -4\n",
    "\n",
    "    temp_df = df.dropna()\n",
    "    temp_df = temp_df.reset_index()\n",
    "    temp_df[\"Score\"] = 0\n",
    "    temp_dict = dict(temp_df)\n",
    "\n",
    "    for i in range(1, len(temp_dict[\"Close\"])):\n",
    "        # 주가가 밴드 상단보다 높으면 -1\n",
    "        if temp_dict[\"Adj Close\"][i] > temp_dict[\"Upper\"][i]:\n",
    "            temp_dict[\"Score\"][i] -= 2\n",
    "        # 주가가 밴드 하단보다 낮으면 +1\n",
    "        elif temp_dict[\"Adj Close\"][i] < temp_dict[\"Lower\"][i]:\n",
    "            temp_dict[\"Score\"][i] += 2\n",
    "\n",
    "        # 모멘텀이 0보다 위일 때 +1\n",
    "        if temp_dict[\"Momentum\"][i] > 0:\n",
    "            temp_dict[\"Score\"][i] += 1\n",
    "        # 모멘텀이 0보다 아래일 때 -1\n",
    "        elif temp_dict[\"Momentum\"][i] < 0:\n",
    "            temp_dict[\"Score\"][i] -= 1\n",
    "\n",
    "        # 모멘텀이 모멘텀 시그널을 상향돌파시 +1\n",
    "        if (temp_dict[\"Momentum\"][i-1] < temp_dict[\"Momentum_signal\"][i-1]) and (temp_dict[\"Momentum_signal\"][i] < temp_dict[\"Momentum\"][i]):\n",
    "            temp_dict[\"Score\"][i] += 2\n",
    "        # 모멘텀이 모멘텀 시그널을 하향돌파시 -1\n",
    "        elif (temp_dict[\"Momentum\"][i-1] > temp_dict[\"Momentum_signal\"][i-1]) and (temp_dict[\"Momentum_signal\"][i] > temp_dict[\"Momentum\"][i]):\n",
    "            temp_dict[\"Score\"][i] -= 2\n",
    "\n",
    "        # 단기 이평선이 장기 이평선을 상향돌파시 +1\n",
    "        if (temp_dict[\"MA15\"][i-1] < temp_dict[\"MA20\"][i-1]) and (temp_dict[\"MA20\"][i] < temp_dict[\"MA15\"][i]):\n",
    "            temp_dict[\"Score\"][i] += 1\n",
    "        # 단기 이평선이 장기 이평선을 하향돌파시 -1\n",
    "        elif (temp_dict[\"MA15\"][i-1] > temp_dict[\"MA20\"][i-1]) and (temp_dict[\"MA20\"][i] > temp_dict[\"MA15\"][i]):\n",
    "            temp_dict[\"Score\"][i] -= 1\n",
    "\n",
    "        # RSI가 70을 넘어가면 과매수 -1\n",
    "        if temp_dict[\"RSI\"][i] >= 70:\n",
    "            temp_dict[\"Score\"][i] -= 2\n",
    "        # RSI가 30에서 내려가면 과매도 +1\n",
    "        elif temp_dict[\"RSI\"][i] <= 30:\n",
    "            temp_dict[\"Score\"][i] += 2\n",
    "\n",
    "        # RSI가 RSI 시그널을 상향돌파시 +1\n",
    "        if (temp_dict[\"RSI\"][i-1] < temp_dict[\"RSI_signal\"][i-1]) and (temp_dict[\"RSI_signal\"][i] < temp_dict[\"RSI\"][i]):\n",
    "            temp_dict[\"Score\"][i] += 1\n",
    "        # RSI가 RSI 시그널을 하향돌파시 -1\n",
    "        elif (temp_dict[\"RSI\"][i-1] > temp_dict[\"RSI_signal\"][i-1]) and (temp_dict[\"RSI_signal\"][i] > temp_dict[\"RSI\"][i]):\n",
    "            temp_dict[\"Score\"][i] -= 1\n",
    "\n",
    "        # MACD가 MACD 시그널을 상향돌파시 +1\n",
    "        if (temp_dict[\"MACD\"][i-1] < temp_dict[\"MACD_signal\"][i-1]) and (temp_dict[\"MACD_signal\"][i] < temp_dict[\"MACD\"][i]):\n",
    "            temp_dict[\"Score\"][i] += 1\n",
    "        # MACD가 MACD 시그널을 하향돌파시 -1\n",
    "        elif (temp_dict[\"MACD\"][i-1] > temp_dict[\"MACD_signal\"][i-1]) and (temp_dict[\"MACD_signal\"][i] > temp_dict[\"MACD\"][i]):\n",
    "            temp_dict[\"Score\"][i] -= 1\n",
    "\n",
    "    df = pd.DataFrame.from_dict(temp_dict)\n",
    "\n",
    "    for index, row in df.iterrows():\n",
    "        df.loc[index, \"yield\"] = int((seed/1000000-1)*100)\n",
    "        if row[\"Score\"] >= buy_threshold:\n",
    "            if not holding:\n",
    "                buy_price = row[\"Adj Close\"]\n",
    "                df.loc[index, \"trade\"] = \"BUY\"\n",
    "                holding = True\n",
    "\n",
    "        elif row[\"Score\"] <= sell_threshold:\n",
    "            if holding:\n",
    "                sell_price = row[\"Adj Close\"]\n",
    "                holding = False\n",
    "                df.loc[index, \"trade\"] = \"SELL\"\n",
    "                seed = seed * (sell_price/buy_price) * (1-fee)\n",
    "\n",
    "        # 5%이상 손실날 때 손절\n",
    "        elif holding and row[\"Adj Close\"]/buy_price <= 0.9:\n",
    "                sell_price = row[\"Adj Close\"]\n",
    "                holding = False\n",
    "                df.loc[index, \"trade\"] = \"STOP\"\n",
    "                seed = seed * (sell_price/buy_price) * (1-fee)\n",
    "\n",
    "    if df.iloc[-1][\"Score\"] >= buy_threshold:\n",
    "        if len(df[df[\"trade\"]==\"BUY\"]) != len(df[df[\"trade\"]==\"SELL\"]) + len(df[df[\"trade\"]==\"STOP\"]):\n",
    "            win_rate = len(df[df[\"trade\"]==\"SELL\"])/(len(df[df[\"trade\"]==\"BUY\"])-1)\n",
    "        else:\n",
    "            win_rate = len(df[df[\"trade\"]==\"SELL\"])/len(df[df[\"trade\"]==\"BUY\"])\n",
    "\n",
    "        if win_rate <= 0.5 or round((seed/1000000-1)*100, 2) < 0:\n",
    "            return\n",
    "\n",
    "        print(\"===============================\")\n",
    "        print(\"BUY :\", ticker)\n",
    "        print(\"buy score :\", df.iloc[-1][\"Score\"])\n",
    "        print(f\"전략 수익률 : {round((seed/1000000-1)*100, 2)}%\")\n",
    "        df[\"buynhold\"] = round(((1000000/df.iloc[0][\"Adj Close\"]*df[\"Adj Close\"])/1000000-1)*100, 2)\n",
    "        print(f\"바이앤홀드 수익률 : {df.iloc[-1]['buynhold']}%\", )\n",
    "\n",
    "        print(\"승룰 :\", win_rate)\n",
    "        print(\"===============================\")"
   ],
   "metadata": {
    "collapsed": false,
    "pycharm": {
     "name": "#%%\n"
    }
   }
  },
  {
   "cell_type": "code",
   "execution_count": 9,
   "outputs": [
    {
     "name": "stderr",
     "output_type": "stream",
     "text": [
      "  0%|          | 0/100 [00:00<?, ?it/s]"
     ]
    },
    {
     "name": "stdout",
     "output_type": "stream",
     "text": [
      "------------ETF-----------\n"
     ]
    },
    {
     "name": "stderr",
     "output_type": "stream",
     "text": [
      "  2%|▏         | 2/100 [00:06<05:31,  3.38s/it]"
     ]
    },
    {
     "name": "stdout",
     "output_type": "stream",
     "text": [
      "===============================\n",
      "BUY : AMJ\n",
      "buy score : 4\n",
      "전략 수익률 : 8.59%\n",
      "바이앤홀드 수익률 : 14.04%\n",
      "승룰 : 0.5454545454545454\n",
      "===============================\n"
     ]
    },
    {
     "name": "stderr",
     "output_type": "stream",
     "text": [
      " 14%|█▍        | 14/100 [00:50<05:02,  3.51s/it]"
     ]
    },
    {
     "name": "stdout",
     "output_type": "stream",
     "text": [
      "===============================\n",
      "BUY : IJR\n",
      "buy score : 3\n",
      "전략 수익률 : 35.6%\n",
      "바이앤홀드 수익률 : 51.94%\n",
      "승룰 : 0.75\n",
      "===============================\n"
     ]
    },
    {
     "name": "stderr",
     "output_type": "stream",
     "text": [
      " 15%|█▌        | 15/100 [00:52<04:20,  3.06s/it]"
     ]
    },
    {
     "name": "stdout",
     "output_type": "stream",
     "text": [
      "except\n",
      "single positional indexer is out-of-bounds\n"
     ]
    },
    {
     "name": "stderr",
     "output_type": "stream",
     "text": [
      " 16%|█▌        | 16/100 [00:54<03:51,  2.75s/it]"
     ]
    },
    {
     "name": "stdout",
     "output_type": "stream",
     "text": [
      "except\n",
      "single positional indexer is out-of-bounds\n"
     ]
    },
    {
     "name": "stderr",
     "output_type": "stream",
     "text": [
      " 20%|██        | 20/100 [01:08<04:23,  3.29s/it]"
     ]
    },
    {
     "name": "stdout",
     "output_type": "stream",
     "text": [
      "===============================\n",
      "BUY : IJH\n",
      "buy score : 3\n",
      "전략 수익률 : 24.06%\n",
      "바이앤홀드 수익률 : 51.86%\n",
      "승룰 : 0.7142857142857143\n",
      "===============================\n"
     ]
    },
    {
     "name": "stderr",
     "output_type": "stream",
     "text": [
      " 23%|██▎       | 23/100 [01:18<04:19,  3.37s/it]"
     ]
    },
    {
     "name": "stdout",
     "output_type": "stream",
     "text": [
      "===============================\n",
      "BUY : IWD\n",
      "buy score : 3\n",
      "전략 수익률 : 43.72%\n",
      "바이앤홀드 수익률 : 46.48%\n",
      "승룰 : 0.9\n",
      "===============================\n"
     ]
    },
    {
     "name": "stderr",
     "output_type": "stream",
     "text": [
      " 60%|██████    | 60/100 [03:30<02:23,  3.58s/it]"
     ]
    },
    {
     "name": "stdout",
     "output_type": "stream",
     "text": [
      "===============================\n",
      "BUY : VBR\n",
      "buy score : 3\n",
      "전략 수익률 : 51.38%\n",
      "바이앤홀드 수익률 : 45.6%\n",
      "승룰 : 0.8125\n",
      "===============================\n"
     ]
    },
    {
     "name": "stderr",
     "output_type": "stream",
     "text": [
      " 76%|███████▌  | 76/100 [04:24<01:20,  3.35s/it]"
     ]
    },
    {
     "name": "stdout",
     "output_type": "stream",
     "text": [
      "===============================\n",
      "BUY : MDY\n",
      "buy score : 3\n",
      "전략 수익률 : 54.18%\n",
      "바이앤홀드 수익률 : 50.59%\n",
      "승룰 : 0.7142857142857143\n",
      "===============================\n"
     ]
    },
    {
     "name": "stderr",
     "output_type": "stream",
     "text": [
      "100%|██████████| 100/100 [05:47<00:00,  3.47s/it]\n",
      "  0%|          | 0/100 [00:00<?, ?it/s]"
     ]
    },
    {
     "name": "stdout",
     "output_type": "stream",
     "text": [
      "===============================\n",
      "BUY : IWS\n",
      "buy score : 3\n",
      "전략 수익률 : 44.82%\n",
      "바이앤홀드 수익률 : 44.55%\n",
      "승룰 : 0.7647058823529411\n",
      "===============================\n",
      "------------주식-----------\n"
     ]
    },
    {
     "name": "stderr",
     "output_type": "stream",
     "text": [
      " 28%|██▊       | 28/100 [01:35<04:10,  3.48s/it]"
     ]
    },
    {
     "name": "stdout",
     "output_type": "stream",
     "text": [
      "===============================\n",
      "BUY : SNY\n",
      "buy score : 3\n",
      "전략 수익률 : 10.12%\n",
      "바이앤홀드 수익률 : 8.69%\n",
      "승룰 : 0.9411764705882353\n",
      "===============================\n"
     ]
    },
    {
     "name": "stderr",
     "output_type": "stream",
     "text": [
      " 31%|███       | 31/100 [01:44<03:50,  3.34s/it]"
     ]
    },
    {
     "name": "stdout",
     "output_type": "stream",
     "text": [
      "===============================\n",
      "BUY : MDLZ\n",
      "buy score : 3\n",
      "전략 수익률 : 4.43%\n",
      "바이앤홀드 수익률 : 69.14%\n",
      "승룰 : 0.9047619047619048\n",
      "===============================\n"
     ]
    },
    {
     "name": "stderr",
     "output_type": "stream",
     "text": [
      "100%|██████████| 100/100 [05:32<00:00,  3.33s/it]\n"
     ]
    }
   ],
   "source": [
    "#etf\n",
    "print(\"------------ETF-----------\")\n",
    "for ticker in tqdm(etf_tickers[\"Symbol\"]):\n",
    "    try:\n",
    "        df = pdr.get_data_yahoo(ticker)\n",
    "        df = get_position(df)\n",
    "        simulation(ticker, df)\n",
    "\n",
    "    except Exception as e:\n",
    "        print(\"except\")\n",
    "        print(e)\n",
    "        pass\n",
    "\n",
    "print(\"------------주식-----------\")\n",
    "# #주식\n",
    "for ticker in tqdm(stock_tickers[\"Symbol\"][:100]):\n",
    "    try:\n",
    "        df = pdr.get_data_yahoo(ticker)\n",
    "        df = get_position(df)\n",
    "        simulation(ticker, df)\n",
    "\n",
    "    except Exception as e:\n",
    "        print(\"except\")\n",
    "        print(e)\n",
    "        pass"
   ],
   "metadata": {
    "collapsed": false,
    "pycharm": {
     "name": "#%%\n"
    }
   }
  }
 ],
 "metadata": {
  "kernelspec": {
   "display_name": "Python 3",
   "language": "python",
   "name": "python3"
  },
  "language_info": {
   "codemirror_mode": {
    "name": "ipython",
    "version": 2
   },
   "file_extension": ".py",
   "mimetype": "text/x-python",
   "name": "python",
   "nbconvert_exporter": "python",
   "pygments_lexer": "ipython2",
   "version": "2.7.6"
  }
 },
 "nbformat": 4,
 "nbformat_minor": 0
}